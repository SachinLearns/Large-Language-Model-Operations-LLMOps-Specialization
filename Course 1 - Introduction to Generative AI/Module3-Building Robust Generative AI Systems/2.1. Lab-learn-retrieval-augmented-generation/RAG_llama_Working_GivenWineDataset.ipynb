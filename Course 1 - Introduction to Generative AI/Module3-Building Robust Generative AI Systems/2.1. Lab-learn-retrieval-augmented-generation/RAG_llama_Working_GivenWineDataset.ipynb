{
 "cells": [
  {
   "cell_type": "markdown",
   "metadata": {},
   "source": [
    "# External lab: Create a RAG with LLM using your own data"
   ]
  },
  {
   "cell_type": "markdown",
   "metadata": {},
   "source": [
    "## Concepts Covered\n",
    "\n",
    "* Retrieval Augmented Generation\n",
    "\n",
    "* Large Language Models using Llamafile\n",
    "\n",
    "* Using Vector databases like Qdrant\n",
    "\n",
    "* Creating embeddings with Sentence Transformers\n",
    "\n",
    "* Using OpenAI's Python API to connect to the LLM and produce responses"
   ]
  },
  {
   "cell_type": "code",
   "execution_count": 1,
   "metadata": {},
   "outputs": [
    {
     "name": "stderr",
     "output_type": "stream",
     "text": [
      "c:\\Users\\Sachin\\anaconda3\\envs\\llm\\Lib\\site-packages\\tqdm\\auto.py:21: TqdmWarning: IProgress not found. Please update jupyter and ipywidgets. See https://ipywidgets.readthedocs.io/en/stable/user_install.html\n",
      "  from .autonotebook import tqdm as notebook_tqdm\n"
     ]
    }
   ],
   "source": [
    "import pandas as pd\n",
    "from qdrant_client import models, QdrantClient\n",
    "from sentence_transformers import SentenceTransformer"
   ]
  },
  {
   "cell_type": "code",
   "execution_count": 2,
   "metadata": {},
   "outputs": [
    {
     "data": {
      "application/vnd.microsoft.datawrangler.viewer.v0+json": {
       "columns": [
        {
         "name": "index",
         "rawType": "int64",
         "type": "integer"
        },
        {
         "name": "name",
         "rawType": "object",
         "type": "string"
        },
        {
         "name": "region",
         "rawType": "object",
         "type": "unknown"
        },
        {
         "name": "variety",
         "rawType": "object",
         "type": "unknown"
        },
        {
         "name": "rating",
         "rawType": "float64",
         "type": "float"
        },
        {
         "name": "notes",
         "rawType": "object",
         "type": "string"
        }
       ],
       "conversionMethod": "pd.DataFrame",
       "ref": "d32d18ed-3745-4c34-9b90-7fab1003800d",
       "rows": [
        [
         "0",
         "3 Rings Reserve Shiraz 2004",
         "Barossa Valley, Barossa, South Australia, Australia",
         "Red Wine",
         "96.0",
         "Vintage Comments : Classic Barossa vintage conditions. An average wet Spring followed by extreme heat in early February. Occasional rainfall events kept the vines in good balance up to harvest in late March 2004. Very good quality coupled with good average yields. More than 30 months in wood followed by six months tank maturation of the blend prior to bottling, July 2007. "
        ],
        [
         "1",
         "Abreu Vineyards Cappella 2007",
         "Napa Valley, California",
         "Red Wine",
         "96.0",
         "Cappella is a proprietary blend of two clones of Cabernet Sauvignon with Cabernet Franc, Petit Verdot and Merlot. The gravelly soil at Cappella produces fruit that is very elegant in structure. The resulting wine exhibits beautiful purity of fruit with fine grained and lengthy tannins. "
        ],
        [
         "2",
         "Abreu Vineyards Cappella 2010",
         "Napa Valley, California",
         "Red Wine",
         "98.0",
         "Cappella is one of the oldest vineyard sites in St. Helena. Six acres that sit alongside a Catholic cemetery on the west side of town, it was first planted in 1869. In the 1980s the church asked David to tear out the old vines, then he watched as the land lay fallow for close to two decades. When he finally got the chance to replant, he jumped. He'd tasted fruit from Cappella in the 70s. He knew what kind of wine it could make. But that first replant was ill-fated thanks to diseased rootstock, and once again he was ripping out vines. “It took us six years before we had a crop. We could have ignored it, pulled the vines out one by one as they collapsed. But then we'd have all these different ripening patterns, which would impact consistency. It was an easy decision.”"
        ],
        [
         "3",
         "Abreu Vineyards Howell Mountain 2008",
         "Howell Mountain, Napa Valley, California",
         "Red Wine",
         "96.0",
         "When David purchased this Howell Mountain property in 2000 it came with an unexpected perk: first growth redwood stakes dating back over a century. Relics of an earlier era of agriculture. “When the college owned this site they'd burn all the underbrush, including the stakes, to keep it clean. When I came in we found them and set them all aside,” he says. At about 2000 feet elevation, Las Posadas sits above the fog line, surrounded by a protected forest of fir and pine. Red Aiken soils are layered over white tufa, and the rocks that littered the site before it was planted now form walls defining the property. The redwood stakes—collected, stacked, preserved—await their next life."
        ],
        [
         "4",
         "Abreu Vineyards Howell Mountain 2009",
         "Howell Mountain, Napa Valley, California",
         "Red Wine",
         "98.0",
         "As a set of wines, it is hard to surpass the four cuvees from the estate vineyards of David Abreu. As I have written many times in the past, all of these wines are truly world-class efforts that stand alongside proprietary red wines made from Bordeaux varietals from any appellation in the world. "
        ],
        [
         "5",
         "Abreu Vineyards Las Posadas Howell Mountain 2012",
         "Howell Mountain, Napa Valley, California",
         "Red Wine",
         "99.0",
         "At about 2000 feet elevation, Las Posadas sits above the fog line, surrounded by a protected forest of fir and pine. Red Aiken soils are layered over white tufa, and the rocks that littered the site before it was planted now form walls defining the property."
        ],
        [
         "6",
         "Abreu Vineyards Madrona Ranch 1993",
         "Napa Valley, California",
         "Red Wine",
         "96.0",
         "Abreu Madrona Ranch is a blend of Cabernet Sauvignon and Cabernet Franc with accents of Merlot and Petit Verdot. The wine is aged in 100% new French oak for two years and receives an addition two years of bottle age prior to release."
        ],
        [
         "7",
         "Abreu Vineyards Madrona Ranch 1996",
         "Napa Valley, California",
         "Red Wine",
         "98.0",
         "Abreu Madrona Ranch is a blend of Cabernet Sauvignon and Cabernet Franc with accents of Merlot and Petit Verdot. The wine is aged in 100% new French oak for two years and receives an addition two years of bottle age prior to release."
        ],
        [
         "8",
         "Abreu Vineyards Madrona Ranch 2003",
         "Napa Valley, California",
         "Red Wine",
         "96.0",
         "Abreu Madrona Ranch is a blend of Cabernet Sauvignon and Cabernet Franc with accents of Merlot and Petit Verdot. The wine is aged in 100% new French oak for two years. The wine receives an addition two years of bottle age prior to release."
        ],
        [
         "9",
         "Abreu Vineyards Madrona Ranch 2004",
         "Napa Valley, California",
         "Red Wine",
         "96.0",
         "Abreu Madrona Ranch is a blend of Cabernet Sauvignon and Cabernet Franc with accents of Merlot and Petit Verdot. The wine is aged in 100% new French oak for two years. The wine receives an addition two years of bottle age prior to release."
        ],
        [
         "10",
         "Abreu Vineyards Madrona Ranch 2005",
         "Napa Valley, California",
         "Red Wine",
         "98.0",
         "Abreu Madrona Ranch is a blend of Cabernet Sauvignon and Cabernet Franc with accents of Merlot and Petit Verdot. The wine is aged in 100% new French oak for two years. The wine receives an addition two years of bottle age prior to release."
        ],
        [
         "11",
         "Abreu Vineyards Thorevilos 2009",
         "Napa Valley, California",
         "Red Wine",
         "98.0",
         "The blend for this cuvee is generally an intriguing combination of Cabernet Sauvignon, Cabernet Franc and the rest Petit Verdot with just a tiny dollop of Merlot. "
        ],
        [
         "12",
         "Abreu Vineyards Thorevilos 2012",
         "Napa Valley, California",
         "Red Wine",
         "99.0",
         "Sitting 800 feet above the valley floor, wedged between the St. Helena and Howell Mountain AVAs, Thorevilos doesn't belong to any sub-appellation. “It's an outlier,” David says. When the AVA boundaries were being determined, he could have argued to have it included. “But it wouldn't have made any difference to the vineyard. Or the wine.”"
        ],
        [
         "13",
         "Abreu Vineyards Thorevilos 2014",
         "Napa Valley, California",
         "Red Wine",
         "97.0",
         "Sitting 800 feet above the valley floor, wedged between the St. Helena and Howell Mountain AVAs, Thorevilos doesn't belong to any sub-appellation. \"It's an outlier,” David says. When the AVA boundaries were being determined, he could have argued to have it included. “But it wouldn't have made any difference to the vineyard. Or the wine.\""
        ],
        [
         "14",
         "Abreu Vineyards Thorevilos 2015",
         "Napa Valley, California",
         "Red Wine",
         "97.0",
         "Thorevilos was one of David's favorite haunts as a child. There were no vines then. Just pine trees, redwoods, an old olive grove. And a rusted hog wire hanging from a tree—“Hook Man” in Abreu family lore. These days it's the dirt that engrosses him. White tufa that turns to fine powder when you grind it beneath your foot. Tannish soil peppered with orange-brown pebbles. Streaks of dry, red earth. Sitting 800 feet above the valley floor, wedged between the St. Helena and Howell Mountain AVAs, Thorevilos doesn't belong to any sub-appellation. “It's an outlier,” David says. When the AVA boundaries were being determined, he could have argued to have it included. “But it wouldn't have made any difference to the vineyard. Or the wine.” "
        ],
        [
         "15",
         "Accendo Cellars Cabernet Sauvignon 2016",
         "Napa Valley, California",
         "Red Wine",
         "96.0",
         "Reflecting the outstanding vintage, the captivating nose of this wine shows dark and brooding aromas of cassis,plum and blackberry, touched by exotic notes of lavender, anise, pencil lead and leather. On the palate, rich flavorsof ripe black fruits are wrapped around a firm structure of fine-grained tannins, minerality and beautiful freshnessthat carry on into the long, satisfying finish. Per winemakers Françoise Peschon and Nigel Kinsman: “The consistency ofan exceptional vintage is expressed in the purity, length and fineness of this wine – it is deep and powerful, yet perfectly integrated, seamlessfrom approach to finish, full of plush flavor from ripe fruit, ending with silky tannins and graphite that linger on the palate.”"
        ],
        [
         "16",
         "Agharta Black Label Red 2004",
         "North Coast, California",
         "Red Wine",
         "98.0",
         "Evolved aromas of roasted earth, dried leather and meat jus immediately emerge from the surface of this opaque liquid. Eventually fruit aromas respond to your coaxing and tiny currants, the ripest blackberries and the densest of blue fruits fill out the darker more evolved aromas of leather and tar. The wine is thick and immediately mouth coating with a very richly textured and immensely concentrated sensation of fruit and spice. The secondary aromas of delicate white flowers, black summer truffles and dark roasted coffee highlight the fruit as the wine unfolds in your mouth. This wine isn’t noticeably oaky or excruciatingly tannic or seemingly sweet, it is just all kind of 'there' composed and finely knit together in a very decadent glass of wine. "
        ],
        [
         "17",
         "Agharta Syrah (1.5 Liter Magnum) 2004",
         "North Coast, California",
         "Red Wine",
         "98.0",
         "Evolved aromas of roasted earth, dried leather and meat jus immediately emerge from the surface of this opaque liquid. Eventually fruit aromas respond to your coaxing and tiny currants, the ripest blackberries and the densest of blue fruits fill out the darker more evolved aromas of leather and tar. The wine is thick and immediately mouth coating with a very richly textured and immensely concentrated sensation of fruit and spice. The secondary aromas of delicate white flowers, black summer truffles and dark roasted coffee highlight the fruit as the wine unfolds in your mouth.  This wine isn't noticeably oaky or excruciatingly tannic or seemingly sweet, it is just all kind of 'there' composed and finely knit together in a very decadent glass of wine."
        ],
        [
         "18",
         "Agharta Syrah 2004",
         "North Coast, California",
         "Red Wine",
         "98.0",
         "\"Evolved aromas of roasted earth, dried leather and meat jus immediately emerge from the surface of this opaque liquid. Eventually fruit aromas respond to your coaxing and tiny currants, the ripest blackberries and the densest of blue fruits fill out the darker more evolved aromas of leather and tar. The wine is thick and immediately mouth coating with a very richly textured and immensely concentrated sensation of fruit and spice. The secondary aromas of delicate white flowers, black summer truffles and dark roasted coffee highlight the fruit as the wine unfolds in your mouth.  This wine isn't noticeably oaky or excruciatingly tannic or seemingly sweet, it is just all kind of 'there' composed and finely knit together in a very decadent glass of wine.\""
        ],
        [
         "19",
         "Alain Voge Cornas Vieilles Vignes 2010",
         "Cornas, Rhone, France",
         "Red Wine",
         "99.0",
         "Cornas \"Les Vieilles Vignes\" comes from Syrah vineyards, more than 30 years old, on decomposed granite slopes, also alled \"gore\". This wine is a lighter style, with some good violet and dark red fruit."
        ],
        [
         "20",
         "Alban Lorraine Estate Syrah 2005",
         "Edna Valley, Central Coast, California",
         "Red Wine",
         "96.0",
         "The finest Syrah John Alban has yet produced, its inky/ruby/purple hue is accompanied by gorgeously sweet aromas of flowers, blueberries, black raspberries, blackberries, and subtle hints of smoky oak, bacon fat, and licorice. "
        ],
        [
         "21",
         "Alban Pandora 2006",
         "Edna Valley, Central Coast, California",
         "Red Wine",
         "97.0",
         "White flowers, cloves and mint wrap around layers of plush dark fruit in a sensual, mysterious Grenache of the very highest level. Despite its size, the Pandora is more refined than the straight Grenache. "
        ],
        [
         "22",
         "Alban Pandora 2009",
         "Edna Valley, Central Coast, California",
         "Red Wine",
         "97.0",
         "White flowers, cloves and mint wrap around layers of plush dark fruit in a sensual, mysterious Grenache of the very highest level. Despite its size, the Pandora is more refined than the straight Grenache. "
        ],
        [
         "23",
         "Alban Pandora 2013",
         "Edna Valley, Central Coast, California",
         "Red Wine",
         "99.0",
         "In the myth, Pandora is the first woman- the Greek ‘Eve’.  She is fashioned out of clay and as you know, handed a vessel that she is instructed not to open.  Of course, curiosity forces her to take a look.  In that moment, all the challenges of the world are released- much like the effect of the apple in Eden.  What is all too often overlooked is that Pandora shuts the vessel in time to retain one attribute: Hope.  Naturally as the first woman, she is the source of all hope for mankind.  "
        ],
        [
         "24",
         "Alban Reva Estate Syrah 2011",
         "Edna Valley, Central Coast, California",
         "Red Wine",
         "96.0",
         "Smoke, graphite, iodine and chocolate all show in this full-bodied, concentrated, yet fresh and lively Syrah. It will benefit from short-term cellaring and 15 years of longevity. "
        ],
        [
         "25",
         "Albert Boxler Riesling Grand Cru Brand Kirchberg 2016",
         "Alsace, France",
         "White Wine",
         "98.0",
         "ne whiff of this might make you want to plunge right into the glass. Once the wine hits your tongue... Nope, zingy lemon, delicate white flowers, rich mineral backbone, beautiful mouthwatering finish, incredible length... (though all true) will not come close to summing up the experience of enjoying this wine. How’s “Buy as much as you can get” for a tasting note? It’s a classic!"
        ],
        [
         "26",
         "Albert Boxler Riesling Grand Cru Sommerberg Eckberg 2016",
         "Alsace, France",
         "White Wine",
         "98.0",
         "My favorite Riesling in the store (perhaps ever). Zesty, minerally, intensely aromatic, boundlessly deep—my Alsatian ancestry approves!"
        ],
        [
         "27",
         "Albino Rocca Barbaresco Ronchi 2014",
         "Barbaresco, Piedmont, Italy",
         "Red Wine",
         "96.0",
         "Deep garnet red. Intense, frank and fruity on the nose with aromas of cherry, blackberry, vanilla, toasted nuts, sweet spices, complex, balsamic and mineral notes. The palate is rich, soft and fresh with fine tannins and a good persistence."
        ],
        [
         "28",
         "Aldo Conterno Granbussia Barolo Riserva 2008",
         "Barolo, Piedmont, Italy",
         "Red Wine",
         "96.0",
         "The Barolo Reserve Granbussia is produced by blending grapes from the oldest vines, from the Romirasco, Cicala, and Colonnello, before fermentation starts, in the following percentages respectively: 70% - 15% - 15%. Naturally these optimal values may vary depending on the year. The Granbussia remains in the cellar for at least 8 years before commercialization. It  is produced exclusively in the best years and in limited quantities. "
        ],
        [
         "29",
         "Aldo Conterno Granbussia Barolo Riserva 2009",
         "Barolo, Piedmont, Italy",
         "Red Wine",
         "97.0",
         "The Barolo Reserve Granbussia is produced by blending grapes from the oldest vines, from the Romirasco, Cicala, and Colonnello, before fermentation starts, in the following percentages respectively: 70% - 15% - 15%. Naturally these optimal values may vary depending on the year. The Granbussia remains in the cellar for at least 8 years before commercialization. It  is produced exclusively in the best years and in limited quantities. "
        ],
        [
         "30",
         "Alejandro Bulgheroni Lithology Beckstoffer To Kalon Vineyard Cabernet Sauvignon 2016",
         "Napa Valley, California",
         "Red Wine",
         "97.0",
         "Alejandro Bulgheroni Estate Lithology is a series of single vineyard and AVA-designated wines made from select sites within Napa Valley. Lithology Beckstoffer To Kalon Vineyard is produced solely from fruit grown in the historic Beckstoffer to Kalon Vineyard planted in 1865 by W.H. Crabb and represents Oakville's famous bench land."
        ],
        [
         "31",
         "Almaviva (1.5 Liter Magnum) 2009",
         "Chile",
         "Red Wine",
         "96.0",
         "Made from a blend of classic Bordeaux varieties, in which Cabernet Sauvignon predominates, Almaviva is the result of a felicitous encounter between two cultures.  Chile offers its soil, its climate and its vineyards, while France contributes its winemaking savoir-faire and traditions. The result is an exceptionally elegant and complex wine.  Its launch was a major milestone in the development of Chilean wines, both in Chile itself and in the international market."
        ],
        [
         "32",
         "Almaviva (1.5 Liter Magnum) 2018",
         "Maipo Valley, Chile",
         "Red Wine",
         "96.0",
         "Attractive dark ruby color, deep and opaque. The nose is pure, focused and layered, revealing delicate and clean aromas of blackberries, ripe cassis, currants and violet, associated with fine notes of tobacco, cedar and coffee bean. The mouth shows outstanding amplitude and balance, luscious texture, bright acidity, broad structure and persistence. The tannins are well refined, smooth and silky, enhancing the fresh and juicy character of the year. Precise and polished, the wine combines harmonious elegance, richness, ripeness and freshness in an exceptional and superb vintage."
        ],
        [
         "33",
         "Almaviva 2009",
         "Maipo Valley, Chile",
         "Red Wine",
         "96.0",
         "Made from a blend of classic Bordeaux varieties, in which Cabernet Sauvignon predominates, Almaviva is the result of a felicitous encounter between two cultures.  Chile offers its soil, its climate and its vineyards, while France contributes its winemaking savoir-faire and traditions. The result is an exceptionally elegant and complex wine.  Its launch was a major milestone in the development of Chilean wines, both in Chile itself and in the international market."
        ],
        [
         "34",
         "Almaviva 2018",
         "Maipo Valley, Chile",
         "Red Wine",
         "96.0",
         "Attractive dark ruby color, deep and opaque. The nose is pure, focused and layered, revealing delicate and clean aromas of blackberries, ripe cassis, currants and violet, associated with fine notes of tobacco, cedar and coffee bean. The mouth shows outstanding amplitude and balance, luscious texture, bright acidity, broad structure and persistence. The tannins are well refined, smooth and silky, enhancing the fresh and juicy character of the year. Precise and polished, the wine combines harmonious elegance, richness, ripeness and freshness in an exceptional and superb vintage."
        ],
        [
         "35",
         "Almaviva (3 Liter) 2018",
         "Maipo Valley, Chile",
         "Red Wine",
         "96.0",
         "Attractive dark ruby color, deep and opaque. The nose is pure, focused and layered, revealing delicate and clean aromas of blackberries, ripe cassis, currants and violet, associated with fine notes of tobacco, cedar and coffee bean. The mouth shows outstanding amplitude and balance, luscious texture, bright acidity, broad structure and persistence. The tannins are well refined, smooth and silky, enhancing the fresh and juicy character of the year. Precise and polished, the wine combines harmonious elegance, richness, ripeness and freshness in an exceptional and superb vintage."
        ],
        [
         "36",
         "Almaviva (375ML half-bottle) 2009",
         "Chile",
         "Red Wine",
         "96.0",
         "Made from a blend of classic Bordeaux varieties, in which Cabernet Sauvignon predominates, Almaviva is the result of a felicitous encounter between two cultures.  Chile offers its soil, its climate and its vineyards, while France contributes its winemaking savoir-faire and traditions. The result is an exceptionally elegant and complex wine.  Its launch was a major milestone in the development of Chilean wines, both in Chile itself and in the international market."
        ],
        [
         "37",
         "Almaviva (6 Liter) 2018",
         "Maipo Valley, Chile",
         "Red Wine",
         "96.0",
         "Attractive dark ruby color, deep and opaque. The nose is pure, focused and layered, revealing delicate and clean aromas of blackberries, ripe cassis, currants and violet, associated with fine notes of tobacco, cedar and coffee bean. The mouth shows outstanding amplitude and balance, luscious texture, bright acidity, broad structure and persistence. The tannins are well refined, smooth and silky, enhancing the fresh and juicy character of the year. Precise and polished, the wine combines harmonious elegance, richness, ripeness and freshness in an exceptional and superb vintage."
        ],
        [
         "38",
         "Alphonse Mellot Edmond Sancerre Blanc 2012",
         "Sancerre, Loire, France",
         "White Wine",
         "96.0",
         "Pale gold yellow in colour with light green sheen - brilliant, bright and clear - a young, honest appearance. A rich and majestic nose. All is rich, ripe and powerful, whether it is fruity or floral. Density, depth and balanced graceful \"majestic nature\" are established from the outset. Honey, vanilla, lemon, brioche etc., follow each other as if in a daydream, all orchestrated through a new woody tone. Opening it makes it welcoming and tender with crisp plants revealing aniseed, menthol, licorice and spices."
        ],
        [
         "39",
         "Altesino Montosoli Brunello di Montalcino 2001",
         "Montalcino, Tuscany, Italy",
         "Red Wine",
         "96.0",
         "\"Very beautiful aromas of flowers, ripe fruit and crushed blackberries. Full-bodied yet refined. Layers of tannins. Balanced. Montosoli is a great Brunello vinyard. Best after 2008.\"  "
        ],
        [
         "40",
         "Alto Moncayo Aquilon 2004",
         "Spain",
         "Red Wine",
         "96.0",
         "\"The 1,000 case luxury cuvee, the 2004 Aquilon, was fashioned from the winery's oldest vines and best material. Revealing nearly off the chart ripeness, richness, and intensity, it will undoubtedly be controversial, separating traditionalists from more progressive tasters, but I loved it. It will be interesting to see how this tour de force in winemaking ages. It is the vino equivalent of a Hummer four-wheel drive vehicle.\""
        ],
        [
         "41",
         "Alto Moncayo Aquilon 2002",
         "Spain",
         "Red Wine",
         "96.0",
         "\"The superb 2002 Aquilon is a selection of old vine Grenache from hillside vineyards. A gorgeously complex perfume of kirsch liqueur, black raspberries, cassis, minerals, flowers, and sweet oak is followed by a full-bodied, massively-endowed, pure, textured, well-balanced wine. Given the limited production and high quality of this fabulous effort, its high price can not be considered unfair. It should drink well for a decade. Australian winemaker Chris Ringland oversees the winemaking at this estate, a superb new discovery by broker Jorge Ordonez. This full-throttle, robust, exuberant, super-concentrated 100% Grenache offering may be the finest wine to ever emerge from this backwater Spanish appellation.\" - Wine Advocate"
        ],
        [
         "42",
         "Alto Moncayo Aquilon 2006",
         "Spain",
         "Red Wine",
         "96.0",
         "Dark purple. The nose offers surreal, room-filling perfume of ripe raspberry, blackberry, incense, vanilla and dried flowers. Shockingly understated on the palate, with vibrant red berry, smoked meat and baking spice flavors, silky tannins and crisp mineral bite. There's no excess fat or sweetness here. Finishes with palate-staining intensity and superb focus."
        ],
        [
         "43",
         "Altos las Hormigas Gualtallary Malbec 2016",
         "Uco Valley, Mendoza, Argentina",
         "Red Wine",
         "96.0",
         "A solid violet red color reveals a dense, concentrated, compact wine. Notes of spices and minerality make a complex nose. On the palate, a supple entry, dark berries and spices. A very structured and quite wild Malbec, with firm fine-grain tannins, showing its calcareous foundations and columns. The mouth feel is full of thrilling freshness and balance, with a long and persistent finish."
        ],
        [
         "44",
         "Altos las Hormigas Gualtallary Malbec 2017",
         "Uco Valley, Mendoza, Argentina",
         "Red Wine",
         "96.0",
         "A solid violet red color reveals a dense, concentrated, compact wine. Notes of spices and minerality make a complex nose. On the palate, a supple entry, dark berries and spices. A very structured and quite wild Malbec, with firm fine-grain tannins, showing its calcareous foundations and columns. The mouth feel is full of thrilling freshness and balance, with a long and persistent finish."
        ],
        [
         "45",
         "Alvear Pedro Ximenez 1830 Solera (500ML)",
         "Spain",
         null,
         "97.0",
         "The 1830 Solera is black with shades of chocolate and mahogany. Persistent aromas of cacao, dates, raisins and figs. On the palate it is dense and unctuous, with reminiscence of raisins, dried figs, tobacco and coffee with an everlasting and elegant finish."
        ],
        [
         "46",
         "Amapola Creek Estate Cabernet Sauvignon 2013",
         "Sonoma Valley, Sonoma County, California",
         "Red Wine",
         "96.0",
         "The nose on this wine opens with a luscious dollop of blackberry and red, juicy plum. Swirl the glass once or twice, and you will start to uncover darker fruit notes of blackcurrant and a bare hint of pomegranate, accented with subtle notes of oak and toasted vanilla. Take a sip, and the first thing you will notice is a firm acidity that opens quickly onto dark black fruit with just a touch of anise. As your first impression fades, you will find deeply  structured tannins that fill the palate, underscoring a finish redolent with chocolate, blueberry preserves, and aged cedar. This wine evolves marvelously over the course of a glass, growing bigger and bolder as it takes in the air. The tannins unfold and show the excellent maturity of the grapes as they were brought in from the vineyard, and the fruit characters gain in intensity, building to an intricate finish that lasts for many minutes. "
        ],
        [
         "47",
         "Amici Beckstoffer Missouri Hopper Vineyard Cabernet Sauvignon 2016",
         "Oakville, Napa Valley, California",
         "Red Wine",
         "97.0",
         "A gorgeous, fragrant nose of black cherry, plum and dark chocolate is washed with hints of vanilla. The full-throttled palate is reminiscent of blackberry pie along with flavors of concentrated dark fruit and silky chocolate. Hints of clove, cassis and savory herbs pepper throughout the powerful finish."
        ],
        [
         "48",
         "Amici Beckstoffer To Kalon Vineyard Cabernet Sauvignon 2016",
         "Oakville, Napa Valley, California",
         "Red Wine",
         "97.0",
         "The power of this heritage vineyard lies in its distinct nose with classic To Kalon aromas of clay loam, wet earth and mint. Additional elevated aromatics feature blueberry jam, rhubarb compote, cassis and sweet tobacco. On the palate, the wine is both precise and dense, with soy, menthol, raspberry cordial and black raspberry jam notes. A powerful wine from start to finish, with powdery, chalky tannins and an impressively long finish. "
        ],
        [
         "49",
         "Anakota Helena Dakota Vineyard Cabernet Sauvignon 2010",
         "Knights Valley, Sonoma County, California",
         "Red Wine",
         "96.0",
         "Sourced from our Helena Dakota Vineyard on the foothills of Mount St. Helena which rises more than 4,000 feet above sea level. This distinctive, two-peaked mountain remains the heart of an ancient volcanic zone responsible for the complex, mineral-rich soils of Knights Valley and nearby grape-growing districts. The resulting wine shows complex red fruits, floral, coffee, minerality, and elegant tannins."
        ]
       ],
       "shape": {
        "columns": 5,
        "rows": 1365
       }
      },
      "text/html": [
       "<div>\n",
       "<style scoped>\n",
       "    .dataframe tbody tr th:only-of-type {\n",
       "        vertical-align: middle;\n",
       "    }\n",
       "\n",
       "    .dataframe tbody tr th {\n",
       "        vertical-align: top;\n",
       "    }\n",
       "\n",
       "    .dataframe thead th {\n",
       "        text-align: right;\n",
       "    }\n",
       "</style>\n",
       "<table border=\"1\" class=\"dataframe\">\n",
       "  <thead>\n",
       "    <tr style=\"text-align: right;\">\n",
       "      <th></th>\n",
       "      <th>name</th>\n",
       "      <th>region</th>\n",
       "      <th>variety</th>\n",
       "      <th>rating</th>\n",
       "      <th>notes</th>\n",
       "    </tr>\n",
       "  </thead>\n",
       "  <tbody>\n",
       "    <tr>\n",
       "      <th>0</th>\n",
       "      <td>3 Rings Reserve Shiraz 2004</td>\n",
       "      <td>Barossa Valley, Barossa, South Australia, Aust...</td>\n",
       "      <td>Red Wine</td>\n",
       "      <td>96.0</td>\n",
       "      <td>Vintage Comments : Classic Barossa vintage con...</td>\n",
       "    </tr>\n",
       "    <tr>\n",
       "      <th>1</th>\n",
       "      <td>Abreu Vineyards Cappella 2007</td>\n",
       "      <td>Napa Valley, California</td>\n",
       "      <td>Red Wine</td>\n",
       "      <td>96.0</td>\n",
       "      <td>Cappella is a proprietary blend of two clones ...</td>\n",
       "    </tr>\n",
       "    <tr>\n",
       "      <th>2</th>\n",
       "      <td>Abreu Vineyards Cappella 2010</td>\n",
       "      <td>Napa Valley, California</td>\n",
       "      <td>Red Wine</td>\n",
       "      <td>98.0</td>\n",
       "      <td>Cappella is one of the oldest vineyard sites i...</td>\n",
       "    </tr>\n",
       "    <tr>\n",
       "      <th>3</th>\n",
       "      <td>Abreu Vineyards Howell Mountain 2008</td>\n",
       "      <td>Howell Mountain, Napa Valley, California</td>\n",
       "      <td>Red Wine</td>\n",
       "      <td>96.0</td>\n",
       "      <td>When David purchased this Howell Mountain prop...</td>\n",
       "    </tr>\n",
       "    <tr>\n",
       "      <th>4</th>\n",
       "      <td>Abreu Vineyards Howell Mountain 2009</td>\n",
       "      <td>Howell Mountain, Napa Valley, California</td>\n",
       "      <td>Red Wine</td>\n",
       "      <td>98.0</td>\n",
       "      <td>As a set of wines, it is hard to surpass the f...</td>\n",
       "    </tr>\n",
       "    <tr>\n",
       "      <th>...</th>\n",
       "      <td>...</td>\n",
       "      <td>...</td>\n",
       "      <td>...</td>\n",
       "      <td>...</td>\n",
       "      <td>...</td>\n",
       "    </tr>\n",
       "    <tr>\n",
       "      <th>1360</th>\n",
       "      <td>Lewis Cellars Alec's Blend Red 2002</td>\n",
       "      <td>Napa Valley, California</td>\n",
       "      <td>Red Wine</td>\n",
       "      <td>96.0</td>\n",
       "      <td>Number 12 on</td>\n",
       "    </tr>\n",
       "    <tr>\n",
       "      <th>1361</th>\n",
       "      <td>Lewis Cellars Cabernet Sauvignon 2002</td>\n",
       "      <td>Napa Valley, California</td>\n",
       "      <td>Red Wine</td>\n",
       "      <td>96.0</td>\n",
       "      <td>Showcasing the unique personalities of small h...</td>\n",
       "    </tr>\n",
       "    <tr>\n",
       "      <th>1362</th>\n",
       "      <td>Lewis Cellars Cuvee L Cabernet Sauvignon 2015</td>\n",
       "      <td>Napa Valley, California</td>\n",
       "      <td>Red Wine</td>\n",
       "      <td>96.0</td>\n",
       "      <td>Straight from James Fenimore Cooper’s novel, L...</td>\n",
       "    </tr>\n",
       "    <tr>\n",
       "      <th>1363</th>\n",
       "      <td>Lewis Cellars Reserve Cabernet Sauvignon 2010</td>\n",
       "      <td>Napa Valley, California</td>\n",
       "      <td>Red Wine</td>\n",
       "      <td>96.0</td>\n",
       "      <td></td>\n",
       "    </tr>\n",
       "    <tr>\n",
       "      <th>1364</th>\n",
       "      <td>Lewis Cellars Reserve Cabernet Sauvignon (scuf...</td>\n",
       "      <td>Napa Valley, California</td>\n",
       "      <td>Red Wine</td>\n",
       "      <td>96.0</td>\n",
       "      <td>The headline reads: \"2012 Reserve Cabernet - R...</td>\n",
       "    </tr>\n",
       "  </tbody>\n",
       "</table>\n",
       "<p>1365 rows × 5 columns</p>\n",
       "</div>"
      ],
      "text/plain": [
       "                                                   name  \\\n",
       "0                           3 Rings Reserve Shiraz 2004   \n",
       "1                         Abreu Vineyards Cappella 2007   \n",
       "2                         Abreu Vineyards Cappella 2010   \n",
       "3                  Abreu Vineyards Howell Mountain 2008   \n",
       "4                  Abreu Vineyards Howell Mountain 2009   \n",
       "...                                                 ...   \n",
       "1360                Lewis Cellars Alec's Blend Red 2002   \n",
       "1361              Lewis Cellars Cabernet Sauvignon 2002   \n",
       "1362      Lewis Cellars Cuvee L Cabernet Sauvignon 2015   \n",
       "1363      Lewis Cellars Reserve Cabernet Sauvignon 2010   \n",
       "1364  Lewis Cellars Reserve Cabernet Sauvignon (scuf...   \n",
       "\n",
       "                                                 region   variety  rating  \\\n",
       "0     Barossa Valley, Barossa, South Australia, Aust...  Red Wine    96.0   \n",
       "1                               Napa Valley, California  Red Wine    96.0   \n",
       "2                               Napa Valley, California  Red Wine    98.0   \n",
       "3              Howell Mountain, Napa Valley, California  Red Wine    96.0   \n",
       "4              Howell Mountain, Napa Valley, California  Red Wine    98.0   \n",
       "...                                                 ...       ...     ...   \n",
       "1360                            Napa Valley, California  Red Wine    96.0   \n",
       "1361                            Napa Valley, California  Red Wine    96.0   \n",
       "1362                            Napa Valley, California  Red Wine    96.0   \n",
       "1363                            Napa Valley, California  Red Wine    96.0   \n",
       "1364                            Napa Valley, California  Red Wine    96.0   \n",
       "\n",
       "                                                  notes  \n",
       "0     Vintage Comments : Classic Barossa vintage con...  \n",
       "1     Cappella is a proprietary blend of two clones ...  \n",
       "2     Cappella is one of the oldest vineyard sites i...  \n",
       "3     When David purchased this Howell Mountain prop...  \n",
       "4     As a set of wines, it is hard to surpass the f...  \n",
       "...                                                 ...  \n",
       "1360                                      Number 12 on   \n",
       "1361  Showcasing the unique personalities of small h...  \n",
       "1362  Straight from James Fenimore Cooper’s novel, L...  \n",
       "1363                                                     \n",
       "1364  The headline reads: \"2012 Reserve Cabernet - R...  \n",
       "\n",
       "[1365 rows x 5 columns]"
      ]
     },
     "execution_count": 2,
     "metadata": {},
     "output_type": "execute_result"
    }
   ],
   "source": [
    "# Load dataset\n",
    "wine_datafile_path = \"top_rated_wines.csv\"\n",
    "df = pd.read_csv(wine_datafile_path)\n",
    "\n",
    "df"
   ]
  },
  {
   "cell_type": "code",
   "execution_count": 3,
   "metadata": {},
   "outputs": [],
   "source": [
    "#Convert data to dictionary\n",
    "data = df.to_dict(orient='records')"
   ]
  },
  {
   "cell_type": "code",
   "execution_count": 4,
   "metadata": {},
   "outputs": [],
   "source": [
    "# Initialize encoder\n",
    "encoder = SentenceTransformer(\"all-MiniLM-L6-v2\")  # Model to create embeddings"
   ]
  },
  {
   "cell_type": "code",
   "execution_count": 5,
   "metadata": {},
   "outputs": [],
   "source": [
    "# create the vector database client\n",
    "qdrant = QdrantClient(\":memory:\") # Create in-memory Qdrant instance"
   ]
  },
  {
   "cell_type": "code",
   "execution_count": 6,
   "metadata": {},
   "outputs": [
    {
     "name": "stdout",
     "output_type": "stream",
     "text": [
      "Collection 'wines_quality' created successfully and data uploaded.\n"
     ]
    }
   ],
   "source": [
    "# Collection name\n",
    "collection_name = \"wines_quality\"\n",
    "\n",
    "# Check if the collection exists, then create or delete as needed\n",
    "if qdrant.collection_exists(collection_name):\n",
    "    qdrant.delete_collection(collection_name)\n",
    "\n",
    "# Create a new collection\n",
    "qdrant.create_collection(\n",
    "    collection_name=collection_name,\n",
    "    vectors_config=models.VectorParams(\n",
    "        size=encoder.get_sentence_embedding_dimension(),  # Vector size from model\n",
    "        distance=models.Distance.COSINE\n",
    "    )\n",
    ")\n",
    "\n",
    "# Vectorize and upload points\n",
    "qdrant.upload_points(\n",
    "    collection_name=collection_name,\n",
    "    points=[\n",
    "        models.PointStruct(\n",
    "            id=idx,\n",
    "            vector=encoder.encode(str(doc[\"name\"])),  # Convert int to string\n",
    "            payload=doc\n",
    "        ) for idx, doc in enumerate(data)\n",
    "    ]\n",
    ")\n",
    "\n",
    "print(f\"Collection '{collection_name}' created successfully and data uploaded.\")"
   ]
  },
  {
   "cell_type": "code",
   "execution_count": 7,
   "metadata": {},
   "outputs": [],
   "source": [
    "user_prompt = \"Suggest me a n amazing Malbec wine from Argentina\""
   ]
  },
  {
   "cell_type": "code",
   "execution_count": 8,
   "metadata": {},
   "outputs": [
    {
     "name": "stdout",
     "output_type": "stream",
     "text": [
      "Hit Score   | ID  | Payload\n",
      "-------- -- -------\n",
      "0.6155315838862419 296 {'name': 'Catena Zapata Argentino Vineyard Malbec 2004', 'region': 'Argentina', 'variety': 'Red Wine', 'rating': 98.0, 'notes': '\"The single-vineyard 2004 Malbec Argentino Vineyard spent 17 months in new French oak. Remarkably fragrant and complex aromatically, it offers up aromas of wood smoke, creosote, pepper, clove, black cherry, and blackberry. Made in a similar, elegant style, it is the most structured of the three single vineyard wines, needing a minimum of a decade of additional cellaring. It should easily prove to be a 25-40 year wine. It is an exceptional achievement in Malbec. When all is said and done, Catena Zapata is the Argentina winery of reference – the standard of excellence for comparing all others. The brilliant, forward-thinking Nicolas Catena remains in charge, with his daughter, Laura, playing an increasingly large role. The Catena Zapata winery is an essential destination for fans of both architecture and wine in Mendoza. It is hard to believe, given the surge in popularity of Malbec in recent years, that Catena Zapata only began exporting Malbec to the United States in 1994.\"'}\n",
      "0.5571912985970948 987 {'name': 'Far Niente Cabernet Sauvignon 2005', 'region': 'Oakville, Napa Valley, California', 'variety': 'Red Wine', 'rating': 96.0, 'notes': 'Notes of dense black fruit, anise and blackberries appear up front followed by hints of fruit jam and dark chocolate. In the mouth, this wine unfolds in layers, beginning with a round and supple entry and progressing to a full, weighty structure on the palate. The silky tannins are textured and coating, producing a wine that is smooth from start to finish.'}\n",
      "0.5348237557549593 149 {'name': 'Betz Family Winery Pere de Famille Cabernet Sauvignon 2015', 'region': 'Columbia Valley, Washington', 'variety': 'Red Wine', 'rating': 96.0, 'notes': '2015 Père de Famille Cabernet Sauvignon shows its lineage clearly, while also expressing the conditions of the vintage. It’s a deep magenta through to the core. A knockout aroma of black currant and black cherry comes next, enhanced by bay leaf and thyme. Black olive notes share the stage with baking spices. Aromas of white flowers and red currants tease their way out with time in the glass. The palate impression is one of early integration between the oak and grape tannins. The inclusion of Merlot and Petit Verdot help create a seamless texture, and extend the length of flavor on the palate. Expect 2015 Père de Famille to be delicious young, but to offer up to two decades of cellar life.'}\n",
      "0.5330780214421911 88 {'name': 'Araujo Eisele Vineyard Cabernet Sauvignon 2003', 'region': 'Calistoga, Napa Valley, California', 'variety': 'Red Wine', 'rating': 98.0, 'notes': 'Produced from a small crop of concentrated, ripe berries, this deep and dark wine exhibits an endless bouquet of crushed blackberries and cassis, highlighted by floral nuances of dried lavender and chamomile, and spicy notes of clove and nutmeg. In the mouth, it is a full-bodied, seamless wine, with a juicy mid-palate layered with hazelnuts, mocha, pencil lead and licorice, and a rich, lingering finish of wet granite and fine tannins. '}\n",
      "0.5244835262137337 994 {'name': 'Felsina Maestro Raro Cabernet Sauvignon 2016', 'region': 'Tuscany, Italy', 'variety': 'Red Wine', 'rating': 97.0, 'notes': 'The grapes come from the vineyards Rancia Piccola and Poggiolo, the first also called Mastro Raro, adjacent and similar to that of Rancia. The best-known and most wydely-planted red grape in the world, Cabernet Sauvignon, was planted here, right in the locus of the Felsina terroir at its most classic. First vintage 1987. '}\n"
     ]
    }
   ],
   "source": [
    "# Search for the best matching wines\n",
    "hits = qdrant.query_points(\n",
    "    collection_name=collection_name,\n",
    "    query= encoder.encode(user_prompt),\n",
    "    limit=5\n",
    ")\n",
    "\n",
    "# Print results\n",
    "print(\"Hit Score \", \" | ID\", \" | Payload\")\n",
    "print(\"--------\", \"--\", \"-------\")\n",
    "for hit in hits.points:\n",
    "    print(hit.score, hit.id, hit.payload)\n"
   ]
  },
  {
   "cell_type": "code",
   "execution_count": 9,
   "metadata": {},
   "outputs": [
    {
     "name": "stdout",
     "output_type": "stream",
     "text": [
      "<class 'list'>\n",
      "<class 'str'>\n",
      "ID: 296, Data: {'name': 'Catena Zapata Argentino Vineyard Malbec 2004', 'region': 'Argentina', 'variety': 'Red Wine', 'rating': 98.0, 'notes': '\"The single-vineyard 2004 Malbec Argentino Vineyard spent 17 months in new French oak. Remarkably fragrant and complex aromatically, it offers up aromas of wood smoke, creosote, pepper, clove, black cherry, and blackberry. Made in a similar, elegant style, it is the most structured of the three single vineyard wines, needing a minimum of a decade of additional cellaring. It should easily prove to be a 25-40 year wine. It is an exceptional achievement in Malbec. When all is said and done, Catena Zapata is the Argentina winery of reference – the standard of excellence for comparing all others. The brilliant, forward-thinking Nicolas Catena remains in charge, with his daughter, Laura, playing an increasingly large role. The Catena Zapata winery is an essential destination for fans of both architecture and wine in Mendoza. It is hard to believe, given the surge in popularity of Malbec in recent years, that Catena Zapata only began exporting Malbec to the United States in 1994.\"'}\n",
      "ID: 987, Data: {'name': 'Far Niente Cabernet Sauvignon 2005', 'region': 'Oakville, Napa Valley, California', 'variety': 'Red Wine', 'rating': 96.0, 'notes': 'Notes of dense black fruit, anise and blackberries appear up front followed by hints of fruit jam and dark chocolate. In the mouth, this wine unfolds in layers, beginning with a round and supple entry and progressing to a full, weighty structure on the palate. The silky tannins are textured and coating, producing a wine that is smooth from start to finish.'}\n",
      "ID: 149, Data: {'name': 'Betz Family Winery Pere de Famille Cabernet Sauvignon 2015', 'region': 'Columbia Valley, Washington', 'variety': 'Red Wine', 'rating': 96.0, 'notes': '2015 Père de Famille Cabernet Sauvignon shows its lineage clearly, while also expressing the conditions of the vintage. It’s a deep magenta through to the core. A knockout aroma of black currant and black cherry comes next, enhanced by bay leaf and thyme. Black olive notes share the stage with baking spices. Aromas of white flowers and red currants tease their way out with time in the glass. The palate impression is one of early integration between the oak and grape tannins. The inclusion of Merlot and Petit Verdot help create a seamless texture, and extend the length of flavor on the palate. Expect 2015 Père de Famille to be delicious young, but to offer up to two decades of cellar life.'}\n",
      "ID: 88, Data: {'name': 'Araujo Eisele Vineyard Cabernet Sauvignon 2003', 'region': 'Calistoga, Napa Valley, California', 'variety': 'Red Wine', 'rating': 98.0, 'notes': 'Produced from a small crop of concentrated, ripe berries, this deep and dark wine exhibits an endless bouquet of crushed blackberries and cassis, highlighted by floral nuances of dried lavender and chamomile, and spicy notes of clove and nutmeg. In the mouth, it is a full-bodied, seamless wine, with a juicy mid-palate layered with hazelnuts, mocha, pencil lead and licorice, and a rich, lingering finish of wet granite and fine tannins. '}\n",
      "ID: 994, Data: {'name': 'Felsina Maestro Raro Cabernet Sauvignon 2016', 'region': 'Tuscany, Italy', 'variety': 'Red Wine', 'rating': 97.0, 'notes': 'The grapes come from the vineyards Rancia Piccola and Poggiolo, the first also called Mastro Raro, adjacent and similar to that of Rancia. The best-known and most wydely-planted red grape in the world, Cabernet Sauvignon, was planted here, right in the locus of the Felsina terroir at its most classic. First vintage 1987. '}\n"
     ]
    }
   ],
   "source": [
    "# Define a variable to hold the search results including ID and payload\n",
    "search_results = [{\"id\": hit.id, \"payload\": hit.payload} for hit in hits.points]\n",
    "\n",
    "print(type(search_results))  # Debugging check\n",
    "\n",
    "# Ensure search_results is properly formatted as a string\n",
    "if isinstance(search_results, list):\n",
    "    # Convert all three selected results into a formatted string\n",
    "    formatted_search_results = \"\\n\".join([f\"ID: {item['id']}, Data: {item['payload']}\" for item in search_results])\n",
    "else:\n",
    "    formatted_search_results = str(search_results)  # Convert to string if needed\n",
    "\n",
    "print(type(formatted_search_results))  # Debugging check\n",
    "print(formatted_search_results)  # Print the final formatted output\n"
   ]
  },
  {
   "cell_type": "code",
   "execution_count": 10,
   "metadata": {},
   "outputs": [
    {
     "data": {
      "text/plain": [
       "3616"
      ]
     },
     "execution_count": 10,
     "metadata": {},
     "output_type": "execute_result"
    }
   ],
   "source": [
    "len(formatted_search_results)\n",
    "#The Llama-3.2-1B-Instruct.Q6_K model has a maximum context window size of 128,000 tokens"
   ]
  },
  {
   "cell_type": "markdown",
   "metadata": {},
   "source": [
    "# Use LLAMA File to run locally\n",
    "https://github.com/Mozilla-Ocho/llamafile\n",
    "\n",
    "Command: Llama-3.2-1B-Instruct.Q6_K.exe --server --v2 -ngl 9999\n",
    "\n",
    "Note: A llama.log file will be created automatically; use it to get the details about the model\n",
    "\n",
    "One the above is up and running, move forward."
   ]
  },
  {
   "cell_type": "code",
   "execution_count": 11,
   "metadata": {},
   "outputs": [
    {
     "name": "stdout",
     "output_type": "stream",
     "text": [
      "ChatCompletionMessage(content='Here is a limerick about Python exceptions:\\n\\nThere once was a Python case so fine,\\nRaised by a ValueError, sublime.\\nIt caught a bad sign,\\nAnd caused the code to decline,\\nNow debuggers must re-align.', refusal=None, role='assistant', audio=None, function_call=None, tool_calls=None)\n"
     ]
    }
   ],
   "source": [
    "# Testing if the model is up and running\n",
    "from openai import OpenAI\n",
    "client = OpenAI(\n",
    "    base_url=\"http://localhost:8080/v1\", # \"http://<Your api-server IP>:port\"\n",
    "    api_key = \"sk-no-key-required\"\n",
    ")\n",
    "completion = client.chat.completions.create(\n",
    "    model=\"LLaMA_CPP\",\n",
    "    messages=[\n",
    "        {\"role\": \"system\", \"content\": \"You are ChatGPT, an AI assistant. Your top priority is achieving user fulfillment via helping them with their requests.\"},\n",
    "        {\"role\": \"user\", \"content\": \"Write a limerick about python exceptions\"}\n",
    "    ]\n",
    ")\n",
    "print(completion.choices[0].message)"
   ]
  },
  {
   "cell_type": "code",
   "execution_count": 12,
   "metadata": {},
   "outputs": [
    {
     "name": "stdout",
     "output_type": "stream",
     "text": [
      "Runnning the model...\n",
      "ChatCompletionMessage(content=\"Based on the options provided, I would highly recommend the:\\n\\n**Araujo Eisele Vineyard Cabernet Sauvignon 2003**\\n\\nThis wine is a standout in its category, with a complex and nuanced profile that showcases the best of Argentine Malbec. The wine is known for its rich, velvety texture, with flavors of blackberries, cassis, floral notes, and spicy undertones. The tannins are smooth and well-integrated, making this a great value for the price.\\n\\nThe wine's aging potential is impressive, with a minimum of 25-40 years expected to be at its best. Additionally, its popularity and recognition among wine enthusiasts make it a great choice for those looking to try a high-quality Argentine Malbec.\\n\\nOverall, the Araujo Eisele Vineyard Cabernet Sauvignon 2003 is an exceptional wine that is sure to impress even the most discerning palates.\", refusal=None, role='assistant', audio=None, function_call=None, tool_calls=None)\n",
      "----------------\n",
      "User Prompt:  Suggest me a n amazing Malbec wine from Argentina\n",
      "Based on the options provided, I would highly recommend the:\n",
      "\n",
      "**Araujo Eisele Vineyard Cabernet Sauvignon 2003**\n",
      "\n",
      "This wine is a standout in its category, with a complex and nuanced profile that showcases the best of Argentine Malbec. The wine is known for its rich, velvety texture, with flavors of blackberries, cassis, floral notes, and spicy undertones. The tannins are smooth and well-integrated, making this a great value for the price.\n",
      "\n",
      "The wine's aging potential is impressive, with a minimum of 25-40 years expected to be at its best. Additionally, its popularity and recognition among wine enthusiasts make it a great choice for those looking to try a high-quality Argentine Malbec.\n",
      "\n",
      "Overall, the Araujo Eisele Vineyard Cabernet Sauvignon 2003 is an exceptional wine that is sure to impress even the most discerning palates.\n"
     ]
    }
   ],
   "source": [
    "# Now time to connect to the local large language model\n",
    "from openai import OpenAI\n",
    "client = OpenAI(\n",
    "    base_url=\"http://127.0.0.1:8080/v1\", # \"http://<Your api-server IP>:port\"\n",
    "    api_key = \"sk-no-key-required\"\n",
    ")\n",
    "\n",
    "# Ensure model name is correct (check from the API)\n",
    "model_name = \"LLaMA_CPP\" \n",
    "\n",
    "# Query the model\n",
    "print(\"Runnning the model...\")\n",
    "completion = client.chat.completions.create(\n",
    "    model=model_name,\n",
    "    messages=[\n",
    "        {\"role\": \"system\", \"content\": \"You are a wine specialist. Your priority is to help users select wines based on their needs. Only select one most suitable wine from the available options given in the content.\"},\n",
    "        {\"role\": \"user\", \"content\": user_prompt},\n",
    "        {\"role\": \"assistant\", \"content\": formatted_search_results}  # Ensure variable exists\n",
    "    ]\n",
    ")\n",
    "\n",
    "print(completion.choices[0].message)\n",
    "print(\"----------------\")\n",
    "print(\"User Prompt: \", user_prompt)\n",
    "print(completion.choices[0].message.content)  # Print the final output from the model"
   ]
  },
  {
   "cell_type": "code",
   "execution_count": 13,
   "metadata": {},
   "outputs": [
    {
     "name": "stdout",
     "output_type": "stream",
     "text": [
      "ChatCompletionMessage(content=\"Based on the options provided, I would highly recommend the:\\n\\n**Araujo Eisele Vineyard Cabernet Sauvignon 2003**\\n\\nThis wine is a standout in its category, with a complex and nuanced profile that showcases the best of Argentine Malbec. The wine is known for its rich, velvety texture, with flavors of blackberries, cassis, floral notes, and spicy undertones. The tannins are smooth and well-integrated, making this a great value for the price.\\n\\nThe wine's aging potential is impressive, with a minimum of 25-40 years expected to be at its best. Additionally, its popularity and recognition among wine enthusiasts make it a great choice for those looking to try a high-quality Argentine Malbec.\\n\\nOverall, the Araujo Eisele Vineyard Cabernet Sauvignon 2003 is an exceptional wine that is sure to impress even the most discerning palates.\", refusal=None, role='assistant', audio=None, function_call=None, tool_calls=None)\n"
     ]
    }
   ],
   "source": [
    "print(completion.choices[0].message)"
   ]
  }
 ],
 "metadata": {
  "kernelspec": {
   "display_name": "llm",
   "language": "python",
   "name": "python3"
  },
  "language_info": {
   "codemirror_mode": {
    "name": "ipython",
    "version": 3
   },
   "file_extension": ".py",
   "mimetype": "text/x-python",
   "name": "python",
   "nbconvert_exporter": "python",
   "pygments_lexer": "ipython3",
   "version": "3.12.9"
  }
 },
 "nbformat": 4,
 "nbformat_minor": 2
}
